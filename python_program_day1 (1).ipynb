{
 "cells": [
  {
   "cell_type": "code",
   "execution_count": null,
   "metadata": {},
   "outputs": [],
   "source": [
    "Types of python to run\n",
    "\n",
    "Immediate mode - cmd- python\n",
    "Script mode - python file.py\n",
    "IDE - Integrated Developement environment- spyder, pycharm, jupyter notebook"
   ]
  },
  {
   "cell_type": "code",
   "execution_count": 2,
   "metadata": {},
   "outputs": [
    {
     "name": "stdout",
     "output_type": "stream",
     "text": [
      "12\n"
     ]
    }
   ],
   "source": [
    "#Variables are containers for storing data values.\n",
    "#A variable is created the moment you first assign a value to it.\n",
    "var = 12\n",
    "print(var)"
   ]
  },
  {
   "cell_type": "code",
   "execution_count": 3,
   "metadata": {},
   "outputs": [
    {
     "name": "stdout",
     "output_type": "stream",
     "text": [
      "a is of type <class 'int'>\n",
      "a is of type <class 'float'>\n",
      "a is of type <class 'str'>\n",
      "a is of type <class 'complex'>\n"
     ]
    }
   ],
   "source": [
    "# how to check data types\n",
    "#In programming, data type is an important concept.\n",
    "#Variables can store data of different types, and different types can do different things.\n",
    "\n",
    "a = 5\n",
    "print(\"a is of type\", type(a))\n",
    "\n",
    "a = 4.35\n",
    "print(\"a is of type\", type(a))\n",
    "\n",
    "a = \"Hello\"\n",
    "print(\"a is of type\", type(a))\n",
    "\n",
    "a = 1+2j\n",
    "print(\"a is of type\", type(a))"
   ]
  },
  {
   "cell_type": "code",
   "execution_count": 13,
   "metadata": {},
   "outputs": [
    {
     "name": "stdout",
     "output_type": "stream",
     "text": [
      "The type of num before conversion :  <class 'float'>\n",
      "5\n",
      "The type of num after conversion :  <class 'int'>\n"
     ]
    }
   ],
   "source": [
    "#Conversion of data types\n",
    "\n",
    "num  = 5\n",
    "\n",
    "print ('The type of num before conversion : ',type(num))\n",
    "\n",
    "#Conversion\n",
    "num = int(num)\n",
    "\n",
    "print(num)\n",
    "\n",
    "print ('The type of num after conversion : ',type(num))"
   ]
  },
  {
   "cell_type": "code",
   "execution_count": 4,
   "metadata": {},
   "outputs": [
    {
     "name": "stdout",
     "output_type": "stream",
     "text": [
      "<class 'int'>\n"
     ]
    }
   ],
   "source": [
    "s=4.5\n",
    "s1=int(s)\n",
    "print(type(s1))"
   ]
  },
  {
   "cell_type": "code",
   "execution_count": 5,
   "metadata": {},
   "outputs": [
    {
     "name": "stdout",
     "output_type": "stream",
     "text": [
      "1\n",
      "23\n",
      "30\n",
      "54 43 42\n"
     ]
    }
   ],
   "source": [
    "#Statements\n",
    "\n",
    "a = 1 #assigngment statement\n",
    "print(a)\n",
    "\n",
    "#Multiple Statement\n",
    "a = 1 + 2 +3 + 4 + \\\n",
    "    2 + 4 +\\\n",
    "    3 + 4\n",
    "    \n",
    "print(a)\n",
    "\n",
    "a = (2 + 5 + 3 + 3 +\n",
    "     2 + 5 + 6\n",
    "     + 4)\n",
    "print(a)\n",
    "\n",
    "\n",
    "#Multiple Assigngment statement\n",
    "a = 54; b = 43; c = 42;\n",
    "\n",
    "print(a,b,c)"
   ]
  },
  {
   "cell_type": "code",
   "execution_count": 5,
   "metadata": {},
   "outputs": [
    {
     "name": "stdout",
     "output_type": "stream",
     "text": [
      "[1, 2, 2.1, 'Hello', (1+2j)]\n",
      "Hello\n",
      "a[2] is :  2.1\n",
      "a[2] is :  5.1\n",
      "My list is:  [1, 2, 5.1, 'Hello', (1+2j)]\n"
     ]
    }
   ],
   "source": [
    "# Data structure - list\n",
    "#Lists are used to store multiple items in a single variable\n",
    "#List are mutable, that is value of elements of list can be altered\n",
    "#The index starts from 0\n",
    "#Lists are created using square brackets\n",
    "\n",
    "\n",
    "a = [1,2,2.1,\"Hello\",1+2j]\n",
    "print(a)\n",
    "\n",
    "print(a[3])\n",
    "\n",
    "print(\"a[2] is : \",a[2])\n",
    "a[2] = 5.1\n",
    "print(\"a[2] is : \",a[2])\n",
    "\n",
    "print(\"My list is: \",a)"
   ]
  },
  {
   "cell_type": "code",
   "execution_count": 6,
   "metadata": {},
   "outputs": [
    {
     "name": "stdout",
     "output_type": "stream",
     "text": [
      "Tuple a:  (5, 'Hello', 23.2, (1+2j))\n",
      "a[2] :  23.2\n"
     ]
    },
    {
     "ename": "TypeError",
     "evalue": "'tuple' object does not support item assignment",
     "output_type": "error",
     "traceback": [
      "\u001b[0;31m---------------------------------------------------------------------------\u001b[0m",
      "\u001b[0;31mTypeError\u001b[0m                                 Traceback (most recent call last)",
      "\u001b[0;32m<ipython-input-6-13074b214ae9>\u001b[0m in \u001b[0;36m<module>\u001b[0;34m\u001b[0m\n\u001b[1;32m      9\u001b[0m \u001b[0mprint\u001b[0m \u001b[0;34m(\u001b[0m\u001b[0;34m\"a[2] : \"\u001b[0m\u001b[0;34m,\u001b[0m\u001b[0ma\u001b[0m\u001b[0;34m[\u001b[0m\u001b[0;36m2\u001b[0m\u001b[0;34m]\u001b[0m\u001b[0;34m)\u001b[0m\u001b[0;34m\u001b[0m\u001b[0;34m\u001b[0m\u001b[0m\n\u001b[1;32m     10\u001b[0m \u001b[0;34m\u001b[0m\u001b[0m\n\u001b[0;32m---> 11\u001b[0;31m \u001b[0ma\u001b[0m\u001b[0;34m[\u001b[0m\u001b[0;36m2\u001b[0m\u001b[0;34m]\u001b[0m \u001b[0;34m=\u001b[0m \u001b[0;36m3.3\u001b[0m\u001b[0;34m\u001b[0m\u001b[0;34m\u001b[0m\u001b[0m\n\u001b[0m\u001b[1;32m     12\u001b[0m \u001b[0;34m\u001b[0m\u001b[0m\n\u001b[1;32m     13\u001b[0m \u001b[0;31m#a[4] = 23\u001b[0m\u001b[0;34m\u001b[0m\u001b[0;34m\u001b[0m\u001b[0;34m\u001b[0m\u001b[0m\n",
      "\u001b[0;31mTypeError\u001b[0m: 'tuple' object does not support item assignment"
     ]
    }
   ],
   "source": [
    "#TTuples are used to store multiple items in a single variable\n",
    "#Tuples are immutable, that is value of elements of tuples cannot be altered\n",
    "\n",
    "\n",
    "a = (5,\"Hello\", 23.2, 1+2j)\n",
    "\n",
    "print(\"Tuple a: \",a)\n",
    "\n",
    "print (\"a[2] : \",a[2])\n",
    "\n",
    "#a[2] = 3.3\n",
    "\n",
    "#a[4] = 23\n"
   ]
  },
  {
   "cell_type": "code",
   "execution_count": 8,
   "metadata": {},
   "outputs": [
    {
     "name": "stdout",
     "output_type": "stream",
     "text": [
      "Hi, How are you?\n",
      "Hello, how are you?\n",
      "o\n"
     ]
    }
   ],
   "source": [
    "#String\n",
    "\n",
    "#String is a immutable\n",
    "\n",
    "s = \"Hi, How are you?\"\n",
    "print(s)\n",
    "\n",
    "s = \"Hello, how are you?\"\n",
    "print(s)\n",
    "\n",
    "print(s[4])\n",
    "\n",
    "#s[4] = \"s\""
   ]
  },
  {
   "cell_type": "code",
   "execution_count": 10,
   "metadata": {},
   "outputs": [
    {
     "name": "stdout",
     "output_type": "stream",
     "text": [
      "{1, 2, 3, 6, 8, 123, 124}\n"
     ]
    },
    {
     "data": {
      "text/plain": [
       "set"
      ]
     },
     "execution_count": 10,
     "metadata": {},
     "output_type": "execute_result"
    }
   ],
   "source": [
    "#Sets are used to store multiple items in a single variable\n",
    "\n",
    "#set is unordered collection of unique items and do not allow duplicate values.\n",
    "\n",
    "a = {1,1,1,1,1,1,1,2,6,8,6,3,123,124}\n",
    "print(a)\n",
    "\n",
    "type(a)\n",
    "#print a[3]"
   ]
  },
  {
   "cell_type": "code",
   "execution_count": 12,
   "metadata": {},
   "outputs": [
    {
     "name": "stdout",
     "output_type": "stream",
     "text": [
      "{1: 'value', 'key': 2, 2: 3}\n",
      "2\n",
      "3\n",
      "{1: 'value', 'key': 2, 2: 4}\n"
     ]
    }
   ],
   "source": [
    "#Dictionaries are used to store data values in key:value pairs and and does not allow duplicates.\n",
    "\n",
    "#Dictionary is mutable\n",
    "\n",
    "dictionary = {\"motor_type\":\"car\", 'key':2, 2:3}\n",
    "\n",
    "print(dictionary)\n",
    "\n",
    "print(dictionary['key'])\n",
    "\n",
    "print(dictionary[2])\n",
    "\n",
    "dictionary[2] = 4\n",
    "\n",
    "print(dictionary)"
   ]
  },
  {
   "cell_type": "code",
   "execution_count": 9,
   "metadata": {},
   "outputs": [
    {
     "name": "stdout",
     "output_type": "stream",
     "text": [
      "Enter the first number 12\n",
      "Enter the second number 13\n",
      "25\n",
      "The sum of 12,13 is 25\n"
     ]
    }
   ],
   "source": [
    "#Input and Output formatting\n",
    "a = input('Enter the first number ')\n",
    "b = input('Enter the second number ')\n",
    "\n",
    "a = int(a)\n",
    "b = int(b)\n",
    "\n",
    "c = a+b\n",
    "\n",
    "print(c)\n",
    "print('The sum of {0},{1} is {2}'.format(a,b,c))"
   ]
  },
  {
   "cell_type": "code",
   "execution_count": 10,
   "metadata": {},
   "outputs": [
    {
     "name": "stdout",
     "output_type": "stream",
     "text": [
      "13\n",
      "7\n",
      "30\n",
      "3.3333333333333335\n",
      "1\n",
      "3\n",
      "1000\n"
     ]
    }
   ],
   "source": [
    "#operators\n",
    "\n",
    "#Arithnetic operators\n",
    "\n",
    "#+,-,*,/,%,//,**\n",
    "\n",
    "x = 10\n",
    "y = 3\n",
    "print(x+y)\n",
    "print(x-y)\n",
    "print(x*3)\n",
    "print(x/y) #Quotient\n",
    "print(x%y)  #Reminder\n",
    "print(x//y) #whole number in quotient\n",
    "print(x**y) #Power"
   ]
  },
  {
   "cell_type": "code",
   "execution_count": 9,
   "metadata": {},
   "outputs": [
    {
     "name": "stdout",
     "output_type": "stream",
     "text": [
      "True\n",
      "True\n",
      "False\n",
      "True\n",
      "True\n",
      "True\n"
     ]
    }
   ],
   "source": [
    "#Comparison Operators\n",
    "\n",
    "#  >,<.==, !=, >=, <=\n",
    "\n",
    "#logical operators\n",
    "#   and , or, not\n",
    "\n",
    "#Special operators - Identity operator\n",
    "\n",
    "#is  and isnot\n",
    "\n",
    "x1 = 5\n",
    "y1 = 5\n",
    "x2 = 'Hello'\n",
    "y2 = 'Hello'\n",
    "x3 = [1,2,3]\n",
    "y3 = [1,2,3]\n",
    "\n",
    "\n",
    "print(x1 is y1)\n",
    "print(x2 is y2)\n",
    "\n",
    "#Membership operators\n",
    "\n",
    "# in and not in\n",
    "\n",
    "print(5 in x3)\n",
    "\n",
    "x = 'Hello world'\n",
    "y = {1 : 'a', 2:'b'}\n",
    "\n",
    "print('H' in x)\n",
    "print('hello' not in x)\n",
    "print(1 in y)"
   ]
  },
  {
   "cell_type": "code",
   "execution_count": 12,
   "metadata": {},
   "outputs": [
    {
     "name": "stdout",
     "output_type": "stream",
     "text": [
      "Enter a number : -5\n",
      "-5  is a negative number \n"
     ]
    }
   ],
   "source": [
    "#If statement\n",
    "\n",
    "#if test expression:\n",
    "#    statement(s)\n",
    "\n",
    "\n",
    "# program to print positive integer or not\n",
    "\n",
    "num = int(input(\"Enter a number : \"))\n",
    "\n",
    "if num > 0:\n",
    "    print(num,\" is a positive number \")\n",
    "\n",
    "if num <0 :\n",
    "    print(num,\" is a negative number \")"
   ]
  },
  {
   "cell_type": "code",
   "execution_count": 15,
   "metadata": {},
   "outputs": [
    {
     "name": "stdout",
     "output_type": "stream",
     "text": [
      "Enter a number : -9\n",
      "-9  is a negative number \n"
     ]
    }
   ],
   "source": [
    "#if else statement\n",
    "\n",
    "#if test expression:\n",
    "#    Body of if\n",
    "#else:\n",
    "#      Body of else   \n",
    "\n",
    "\n",
    "# program to print positive integer or not\n",
    "\n",
    "num = int(input(\"Enter a number : \"))\n",
    "\n",
    "if num > 0:\n",
    "    print(num,\" is a positive number \")\n",
    "else:\n",
    "    print(num,\" is a negative number \")"
   ]
  },
  {
   "cell_type": "code",
   "execution_count": 18,
   "metadata": {},
   "outputs": [
    {
     "name": "stdout",
     "output_type": "stream",
     "text": [
      "Enter a number : -9\n",
      "-9  is a negative number \n"
     ]
    }
   ],
   "source": [
    "# if...elif...else\n",
    "\n",
    "#if test expression:\n",
    "#   Body of if\n",
    "#elif test expresion\n",
    "#   Body of elif\n",
    "#else:\n",
    "#    Body of else\n",
    "\n",
    "\n",
    "# program to print positive integer or not\n",
    "\n",
    "num = int(input(\"Enter a number : \"))\n",
    "\n",
    "if num > 0:\n",
    "    print(num,\" is a positive number \")\n",
    "elif num == 0:\n",
    "    print(num,\" is Zero \")\n",
    "else:\n",
    "    print(num,\" is a negative number \")"
   ]
  },
  {
   "cell_type": "code",
   "execution_count": 21,
   "metadata": {},
   "outputs": [
    {
     "name": "stdout",
     "output_type": "stream",
     "text": [
      "The sum of num list is  65\n"
     ]
    }
   ],
   "source": [
    "#A for loop is used for iterating over a sequence (that is either a list, a tuple, a dictionary, a set, or a string).\n",
    "#With the for loop we can execute a set of statements, once for each item in a list, tuple, set etc.\n",
    "\n",
    "num = [6,3,4,5,6,8,5,6,4,3,1,2,3,9]\n",
    "sum = 0\n",
    "for val in num:\n",
    "    sum = sum +val\n",
    "\n",
    "print (\"The sum of num list is \",sum)"
   ]
  },
  {
   "cell_type": "code",
   "execution_count": 22,
   "metadata": {},
   "outputs": [
    {
     "name": "stdout",
     "output_type": "stream",
     "text": [
      "0\n",
      "1\n",
      "2\n",
      "6\n",
      "7\n",
      "9\n",
      "No item is left\n"
     ]
    }
   ],
   "source": [
    "#for with else\n",
    "\n",
    "digits = [0,1,2,6,7,9]\n",
    "for i in digits:\n",
    "    print(i)\n",
    "else:\n",
    "    print(\"No item is left\")\n"
   ]
  },
  {
   "cell_type": "code",
   "execution_count": 23,
   "metadata": {},
   "outputs": [
    {
     "name": "stdout",
     "output_type": "stream",
     "text": [
      "The program is done\n",
      "The sum is :  55\n"
     ]
    }
   ],
   "source": [
    "#With the while loop we can execute a set of statements as long as a condition is true.\n",
    "#While test_Expression:\n",
    "#    Body of while\n",
    "\n",
    "n = 10\n",
    "sum = 0\n",
    "i = 1\n",
    "while i <= n:\n",
    "    sum = sum + i\n",
    "    i = i + 1\n",
    "else:\n",
    "    print(\"The program is done\")\n",
    "print(\"The sum is : \",sum)"
   ]
  },
  {
   "cell_type": "code",
   "execution_count": 24,
   "metadata": {},
   "outputs": [
    {
     "name": "stdout",
     "output_type": "stream",
     "text": [
      "s\n",
      "t\n",
      "r\n",
      "i\n",
      "End\n"
     ]
    }
   ],
   "source": [
    "#break\n",
    "var='string'\n",
    "for val in var:\n",
    "    if val == 'n':\n",
    "        break\n",
    "    print(val)\n",
    "print(\"End\")"
   ]
  },
  {
   "cell_type": "code",
   "execution_count": 1,
   "metadata": {},
   "outputs": [
    {
     "name": "stdout",
     "output_type": "stream",
     "text": [
      "s\n",
      "t\n",
      "r\n",
      "n\n",
      "g\n",
      "End\n"
     ]
    }
   ],
   "source": [
    "#Continue\n",
    "var='string'\n",
    "for val in var:\n",
    "    if val == 'i':\n",
    "        continue\n",
    "    print(val)\n",
    "print(\"End\")"
   ]
  },
  {
   "cell_type": "code",
   "execution_count": 27,
   "metadata": {},
   "outputs": [],
   "source": [
    "#Pass \n",
    "\n",
    "#we use pass statement to construct a body that does not do anything\n",
    "\n",
    "sequence = {'p','a','s','s'}\n",
    "for val in sequence:\n",
    "    pass\n",
    "\n",
    "def function(args):\n",
    "    pass\n",
    "    \n",
    "\n",
    "class example:\n",
    "    pass"
   ]
  },
  {
   "cell_type": "code",
   "execution_count": 28,
   "metadata": {},
   "outputs": [
    {
     "name": "stdout",
     "output_type": "stream",
     "text": [
      "False\n",
      "False\n",
      "hello world\n",
      "HELLO WORLD\n",
      "True\n"
     ]
    }
   ],
   "source": [
    "#upper & lower case conversion\n",
    "\n",
    "var= \"Hello World\"\n",
    "\n",
    "print(var.islower())\n",
    "print(var.isupper())\n",
    "\n",
    "print(var.lower())\n",
    "print(var.upper())\n",
    "var1=var.upper()\n",
    "print(var1.isupper())"
   ]
  },
  {
   "cell_type": "code",
   "execution_count": 29,
   "metadata": {},
   "outputs": [
    {
     "name": "stdout",
     "output_type": "stream",
     "text": [
      "python is very easy\n"
     ]
    }
   ],
   "source": [
    "#string replace\n",
    "\n",
    "s=\"python is simple\"\n",
    "s1=s.replace(\"simple\", \"very easy\")\n",
    "print(s1)"
   ]
  },
  {
   "cell_type": "code",
   "execution_count": 33,
   "metadata": {},
   "outputs": [
    {
     "name": "stdout",
     "output_type": "stream",
     "text": [
      "ph  \n",
      "elpmis si nohtyp\n"
     ]
    }
   ],
   "source": [
    "#slicing\n",
    "s=\"python is simple\"\n",
    "\n",
    "print(s[0:10:3]) # print every 2nd character\n",
    "print(s[::-1]) # print the reversing character"
   ]
  },
  {
   "cell_type": "code",
   "execution_count": 34,
   "metadata": {},
   "outputs": [
    {
     "name": "stdout",
     "output_type": "stream",
     "text": [
      "5.0\n"
     ]
    }
   ],
   "source": [
    "s=5\n",
    "s1=float(s)\n",
    "print(s1)"
   ]
  },
  {
   "cell_type": "code",
   "execution_count": null,
   "metadata": {},
   "outputs": [],
   "source": [
    "#Exercise"
   ]
  },
  {
   "cell_type": "code",
   "execution_count": null,
   "metadata": {},
   "outputs": [],
   "source": [
    "#1) write a program to print even numbers"
   ]
  },
  {
   "cell_type": "code",
   "execution_count": null,
   "metadata": {},
   "outputs": [],
   "source": [
    "#2) write a program for factorial"
   ]
  },
  {
   "cell_type": "code",
   "execution_count": null,
   "metadata": {},
   "outputs": [],
   "source": [
    "#3) write a program for palindrome number in python #121"
   ]
  },
  {
   "cell_type": "code",
   "execution_count": null,
   "metadata": {},
   "outputs": [],
   "source": [
    "#4) write a program for prime number"
   ]
  }
 ],
 "metadata": {
  "kernelspec": {
   "display_name": "Python [conda env:root] *",
   "language": "python",
   "name": "conda-root-py"
  },
  "language_info": {
   "codemirror_mode": {
    "name": "ipython",
    "version": 3
   },
   "file_extension": ".py",
   "mimetype": "text/x-python",
   "name": "python",
   "nbconvert_exporter": "python",
   "pygments_lexer": "ipython3",
   "version": "3.7.3"
  }
 },
 "nbformat": 4,
 "nbformat_minor": 2
}
