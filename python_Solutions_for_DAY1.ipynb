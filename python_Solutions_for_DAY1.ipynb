{
 "cells": [
  {
   "cell_type": "code",
   "execution_count": null,
   "metadata": {},
   "outputs": [],
   "source": [
    "# solutions"
   ]
  },
  {
   "cell_type": "code",
   "execution_count": 1,
   "metadata": {},
   "outputs": [
    {
     "name": "stdout",
     "output_type": "stream",
     "text": [
      "Enter the number:25\n",
      "2\n",
      "4\n",
      "6\n",
      "8\n",
      "10\n",
      "12\n",
      "14\n",
      "16\n",
      "18\n",
      "20\n",
      "22\n",
      "24\n"
     ]
    }
   ],
   "source": [
    "#1) write a program to print even numbers\n",
    "\n",
    "num= int(input(\"Enter the number:\" ))\n",
    "\n",
    "for x in range(1, num+1):\n",
    "    if (x%2==0):\n",
    "        print(x)"
   ]
  },
  {
   "cell_type": "code",
   "execution_count": 3,
   "metadata": {},
   "outputs": [
    {
     "name": "stdout",
     "output_type": "stream",
     "text": [
      "the factorical is 1\n",
      "the factorical is 2\n",
      "the factorical is 6\n",
      "the factorical is 24\n",
      "the factorical is 120\n",
      "the factorical is 720\n",
      "the factorical is 5040\n",
      "the factorical is 40320\n",
      "the factorical is 362880\n",
      "the factorical is 3628800\n"
     ]
    }
   ],
   "source": [
    "#2) write a program for factorial\n",
    "\n",
    "n=10\n",
    "fact=1\n",
    "for x in range(1, n+1):\n",
    "    fact=fact*x\n",
    "    print(\"the factorical is\", fact)"
   ]
  },
  {
   "cell_type": "code",
   "execution_count": 16,
   "metadata": {},
   "outputs": [
    {
     "name": "stdout",
     "output_type": "stream",
     "text": [
      "Enter any number :1551\n",
      "155\n",
      "15\n",
      "1\n",
      "0\n",
      "The number is palindrome!\n"
     ]
    }
   ],
   "source": [
    "#3) write a program for palindrome number in python #121\n",
    "\n",
    "num=int(input(\"Enter any number :\"))\n",
    "\n",
    "temp=num\n",
    "\n",
    "n=0\n",
    "while(num>0):\n",
    "\n",
    "    digit=num%10\n",
    "\n",
    "    n= n*10 + digit\n",
    "\n",
    "    num=num//10\n",
    "    print(num)\n",
    "\n",
    "if(temp==n):\n",
    "    print(\"The number is palindrome!\")\n",
    "else:\n",
    "    print(\"Not a palindrome!\")"
   ]
  },
  {
   "cell_type": "code",
   "execution_count": 15,
   "metadata": {},
   "outputs": [
    {
     "name": "stdout",
     "output_type": "stream",
     "text": [
      "2\n",
      "3\n",
      "5\n",
      "7\n"
     ]
    }
   ],
   "source": [
    "#4) write a program for prime number\n",
    "\n",
    "n1=0\n",
    "n2=10\n",
    "\n",
    "for x in range(n1, n2+1):\n",
    "    if x>1:\n",
    "        for i in range(2,x):\n",
    "            if(x%i)==0:\n",
    "                break\n",
    "        else:\n",
    "            print(x)"
   ]
  },
  {
   "cell_type": "code",
   "execution_count": null,
   "metadata": {},
   "outputs": [],
   "source": []
  }
 ],
 "metadata": {
  "kernelspec": {
   "display_name": "Python 3",
   "language": "python",
   "name": "python3"
  },
  "language_info": {
   "codemirror_mode": {
    "name": "ipython",
    "version": 3
   },
   "file_extension": ".py",
   "mimetype": "text/x-python",
   "name": "python",
   "nbconvert_exporter": "python",
   "pygments_lexer": "ipython3",
   "version": "3.6.9"
  }
 },
 "nbformat": 4,
 "nbformat_minor": 2
}
